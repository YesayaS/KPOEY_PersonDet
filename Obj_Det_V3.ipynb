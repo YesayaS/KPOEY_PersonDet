{
  "nbformat": 4,
  "nbformat_minor": 0,
  "metadata": {
    "colab": {
      "name": "Obj Det V3.ipynb",
      "provenance": [],
      "collapsed_sections": []
    },
    "kernelspec": {
      "name": "python3",
      "display_name": "Python 3"
    },
    "accelerator": "GPU"
  },
  "cells": [
    {
      "cell_type": "code",
      "metadata": {
        "id": "fKnisLgpa8q7",
        "colab_type": "code",
        "colab": {
          "base_uri": "https://localhost:8080/",
          "height": 122
        },
        "outputId": "1cb25b13-0f93-472d-da44-3c1264fce29c"
      },
      "source": [
        "import os, sys\n",
        "import pathlib\n",
        "from google.colab import drive\n",
        "drive.mount('/content/drive')"
      ],
      "execution_count": 2,
      "outputs": [
        {
          "output_type": "stream",
          "text": [
            "Go to this URL in a browser: https://accounts.google.com/o/oauth2/auth?client_id=947318989803-6bn6qk8qdgf4n4g3pfee6491hc0brc4i.apps.googleusercontent.com&redirect_uri=urn%3aietf%3awg%3aoauth%3a2.0%3aoob&scope=email%20https%3a%2f%2fwww.googleapis.com%2fauth%2fdocs.test%20https%3a%2f%2fwww.googleapis.com%2fauth%2fdrive%20https%3a%2f%2fwww.googleapis.com%2fauth%2fdrive.photos.readonly%20https%3a%2f%2fwww.googleapis.com%2fauth%2fpeopleapi.readonly&response_type=code\n",
            "\n",
            "Enter your authorization code:\n",
            "··········\n",
            "Mounted at /content/drive\n"
          ],
          "name": "stdout"
        }
      ]
    },
    {
      "cell_type": "code",
      "metadata": {
        "id": "yGs-wbYkazyv",
        "colab_type": "code",
        "colab": {
          "base_uri": "https://localhost:8080/",
          "height": 1000
        },
        "outputId": "6a734298-3bab-4995-a2cb-737c1cff22d8"
      },
      "source": [
        "#!pip install -U --pre tensorflow==\"2.*\"\n",
        "!pip install tf_slim\n",
        "!pip install pycocotools\n",
        "!pip install keyboard\n",
        "!apt-get install protobuf-compiler python-pil python-lxml python-tk\n",
        "!pip install Cython"
      ],
      "execution_count": 3,
      "outputs": [
        {
          "output_type": "stream",
          "text": [
            "Collecting tf_slim\n",
            "\u001b[?25l  Downloading https://files.pythonhosted.org/packages/02/97/b0f4a64df018ca018cc035d44f2ef08f91e2e8aa67271f6f19633a015ff7/tf_slim-1.1.0-py2.py3-none-any.whl (352kB)\n",
            "\r\u001b[K     |█                               | 10kB 28.6MB/s eta 0:00:01\r\u001b[K     |█▉                              | 20kB 35.3MB/s eta 0:00:01\r\u001b[K     |██▉                             | 30kB 40.6MB/s eta 0:00:01\r\u001b[K     |███▊                            | 40kB 22.9MB/s eta 0:00:01\r\u001b[K     |████▋                           | 51kB 16.1MB/s eta 0:00:01\r\u001b[K     |█████▋                          | 61kB 14.7MB/s eta 0:00:01\r\u001b[K     |██████▌                         | 71kB 13.4MB/s eta 0:00:01\r\u001b[K     |███████▌                        | 81kB 13.1MB/s eta 0:00:01\r\u001b[K     |████████▍                       | 92kB 13.2MB/s eta 0:00:01\r\u001b[K     |█████████▎                      | 102kB 13.7MB/s eta 0:00:01\r\u001b[K     |██████████▎                     | 112kB 13.7MB/s eta 0:00:01\r\u001b[K     |███████████▏                    | 122kB 13.7MB/s eta 0:00:01\r\u001b[K     |████████████                    | 133kB 13.7MB/s eta 0:00:01\r\u001b[K     |█████████████                   | 143kB 13.7MB/s eta 0:00:01\r\u001b[K     |██████████████                  | 153kB 13.7MB/s eta 0:00:01\r\u001b[K     |███████████████                 | 163kB 13.7MB/s eta 0:00:01\r\u001b[K     |███████████████▉                | 174kB 13.7MB/s eta 0:00:01\r\u001b[K     |████████████████▊               | 184kB 13.7MB/s eta 0:00:01\r\u001b[K     |█████████████████▊              | 194kB 13.7MB/s eta 0:00:01\r\u001b[K     |██████████████████▋             | 204kB 13.7MB/s eta 0:00:01\r\u001b[K     |███████████████████▌            | 215kB 13.7MB/s eta 0:00:01\r\u001b[K     |████████████████████▌           | 225kB 13.7MB/s eta 0:00:01\r\u001b[K     |█████████████████████▍          | 235kB 13.7MB/s eta 0:00:01\r\u001b[K     |██████████████████████▍         | 245kB 13.7MB/s eta 0:00:01\r\u001b[K     |███████████████████████▎        | 256kB 13.7MB/s eta 0:00:01\r\u001b[K     |████████████████████████▏       | 266kB 13.7MB/s eta 0:00:01\r\u001b[K     |█████████████████████████▏      | 276kB 13.7MB/s eta 0:00:01\r\u001b[K     |██████████████████████████      | 286kB 13.7MB/s eta 0:00:01\r\u001b[K     |███████████████████████████     | 296kB 13.7MB/s eta 0:00:01\r\u001b[K     |████████████████████████████    | 307kB 13.7MB/s eta 0:00:01\r\u001b[K     |████████████████████████████▉   | 317kB 13.7MB/s eta 0:00:01\r\u001b[K     |█████████████████████████████▉  | 327kB 13.7MB/s eta 0:00:01\r\u001b[K     |██████████████████████████████▊ | 337kB 13.7MB/s eta 0:00:01\r\u001b[K     |███████████████████████████████▋| 348kB 13.7MB/s eta 0:00:01\r\u001b[K     |████████████████████████████████| 358kB 13.7MB/s \n",
            "\u001b[?25hRequirement already satisfied: absl-py>=0.2.2 in /usr/local/lib/python3.6/dist-packages (from tf_slim) (0.8.1)\n",
            "Requirement already satisfied: six in /usr/local/lib/python3.6/dist-packages (from absl-py>=0.2.2->tf_slim) (1.15.0)\n",
            "Installing collected packages: tf-slim\n",
            "Successfully installed tf-slim-1.1.0\n",
            "Requirement already satisfied: pycocotools in /usr/local/lib/python3.6/dist-packages (2.0.1)\n",
            "Requirement already satisfied: cython>=0.27.3 in /usr/local/lib/python3.6/dist-packages (from pycocotools) (0.29.21)\n",
            "Requirement already satisfied: setuptools>=18.0 in /usr/local/lib/python3.6/dist-packages (from pycocotools) (49.6.0)\n",
            "Requirement already satisfied: matplotlib>=2.1.0 in /usr/local/lib/python3.6/dist-packages (from pycocotools) (3.2.2)\n",
            "Requirement already satisfied: python-dateutil>=2.1 in /usr/local/lib/python3.6/dist-packages (from matplotlib>=2.1.0->pycocotools) (2.8.1)\n",
            "Requirement already satisfied: pyparsing!=2.0.4,!=2.1.2,!=2.1.6,>=2.0.1 in /usr/local/lib/python3.6/dist-packages (from matplotlib>=2.1.0->pycocotools) (2.4.7)\n",
            "Requirement already satisfied: kiwisolver>=1.0.1 in /usr/local/lib/python3.6/dist-packages (from matplotlib>=2.1.0->pycocotools) (1.2.0)\n",
            "Requirement already satisfied: numpy>=1.11 in /usr/local/lib/python3.6/dist-packages (from matplotlib>=2.1.0->pycocotools) (1.18.5)\n",
            "Requirement already satisfied: cycler>=0.10 in /usr/local/lib/python3.6/dist-packages (from matplotlib>=2.1.0->pycocotools) (0.10.0)\n",
            "Requirement already satisfied: six>=1.5 in /usr/local/lib/python3.6/dist-packages (from python-dateutil>=2.1->matplotlib>=2.1.0->pycocotools) (1.15.0)\n",
            "Collecting keyboard\n",
            "\u001b[?25l  Downloading https://files.pythonhosted.org/packages/55/88/287159903c5b3fc6d47b651c7ab65a54dcf9c9916de546188a7f62870d6d/keyboard-0.13.5-py3-none-any.whl (58kB)\n",
            "\u001b[K     |████████████████████████████████| 61kB 6.2MB/s \n",
            "\u001b[?25hInstalling collected packages: keyboard\n",
            "Successfully installed keyboard-0.13.5\n",
            "Reading package lists... Done\n",
            "Building dependency tree       \n",
            "Reading state information... Done\n",
            "protobuf-compiler is already the newest version (3.0.0-9.1ubuntu1).\n",
            "python-tk is already the newest version (2.7.17-1~18.04).\n",
            "The following package was automatically installed and is no longer required:\n",
            "  libnvidia-common-440\n",
            "Use 'apt autoremove' to remove it.\n",
            "The following additional packages will be installed:\n",
            "  python-bs4 python-chardet python-html5lib python-olefile\n",
            "  python-pkg-resources python-six python-webencodings\n",
            "Suggested packages:\n",
            "  python-genshi python-lxml-dbg python-lxml-doc python-pil-doc python-pil-dbg\n",
            "  python-setuptools\n",
            "The following NEW packages will be installed:\n",
            "  python-bs4 python-chardet python-html5lib python-lxml python-olefile\n",
            "  python-pil python-pkg-resources python-six python-webencodings\n",
            "0 upgraded, 9 newly installed, 0 to remove and 39 not upgraded.\n",
            "Need to get 1,791 kB of archives.\n",
            "After this operation, 7,807 kB of additional disk space will be used.\n",
            "Get:1 http://archive.ubuntu.com/ubuntu bionic/main amd64 python-bs4 all 4.6.0-1 [67.9 kB]\n",
            "Get:2 http://archive.ubuntu.com/ubuntu bionic/main amd64 python-pkg-resources all 39.0.1-2 [128 kB]\n",
            "Get:3 http://archive.ubuntu.com/ubuntu bionic/main amd64 python-chardet all 3.0.4-1 [80.3 kB]\n",
            "Get:4 http://archive.ubuntu.com/ubuntu bionic/main amd64 python-six all 1.11.0-2 [11.3 kB]\n",
            "Get:5 http://archive.ubuntu.com/ubuntu bionic/main amd64 python-webencodings all 0.5-2 [10.3 kB]\n",
            "Get:6 http://archive.ubuntu.com/ubuntu bionic/main amd64 python-html5lib all 0.999999999-1 [83.6 kB]\n",
            "Get:7 http://archive.ubuntu.com/ubuntu bionic-updates/main amd64 python-lxml amd64 4.2.1-1ubuntu0.1 [1,075 kB]\n",
            "Get:8 http://archive.ubuntu.com/ubuntu bionic/main amd64 python-olefile all 0.45.1-1 [33.2 kB]\n",
            "Get:9 http://archive.ubuntu.com/ubuntu bionic-updates/main amd64 python-pil amd64 5.1.0-1ubuntu0.3 [301 kB]\n",
            "Fetched 1,791 kB in 3s (709 kB/s)\n",
            "Selecting previously unselected package python-bs4.\n",
            "(Reading database ... 144579 files and directories currently installed.)\n",
            "Preparing to unpack .../0-python-bs4_4.6.0-1_all.deb ...\n",
            "Unpacking python-bs4 (4.6.0-1) ...\n",
            "Selecting previously unselected package python-pkg-resources.\n",
            "Preparing to unpack .../1-python-pkg-resources_39.0.1-2_all.deb ...\n",
            "Unpacking python-pkg-resources (39.0.1-2) ...\n",
            "Selecting previously unselected package python-chardet.\n",
            "Preparing to unpack .../2-python-chardet_3.0.4-1_all.deb ...\n",
            "Unpacking python-chardet (3.0.4-1) ...\n",
            "Selecting previously unselected package python-six.\n",
            "Preparing to unpack .../3-python-six_1.11.0-2_all.deb ...\n",
            "Unpacking python-six (1.11.0-2) ...\n",
            "Selecting previously unselected package python-webencodings.\n",
            "Preparing to unpack .../4-python-webencodings_0.5-2_all.deb ...\n",
            "Unpacking python-webencodings (0.5-2) ...\n",
            "Selecting previously unselected package python-html5lib.\n",
            "Preparing to unpack .../5-python-html5lib_0.999999999-1_all.deb ...\n",
            "Unpacking python-html5lib (0.999999999-1) ...\n",
            "Selecting previously unselected package python-lxml:amd64.\n",
            "Preparing to unpack .../6-python-lxml_4.2.1-1ubuntu0.1_amd64.deb ...\n",
            "Unpacking python-lxml:amd64 (4.2.1-1ubuntu0.1) ...\n",
            "Selecting previously unselected package python-olefile.\n",
            "Preparing to unpack .../7-python-olefile_0.45.1-1_all.deb ...\n",
            "Unpacking python-olefile (0.45.1-1) ...\n",
            "Selecting previously unselected package python-pil:amd64.\n",
            "Preparing to unpack .../8-python-pil_5.1.0-1ubuntu0.3_amd64.deb ...\n",
            "Unpacking python-pil:amd64 (5.1.0-1ubuntu0.3) ...\n",
            "Setting up python-pkg-resources (39.0.1-2) ...\n",
            "Setting up python-six (1.11.0-2) ...\n",
            "Setting up python-bs4 (4.6.0-1) ...\n",
            "Setting up python-lxml:amd64 (4.2.1-1ubuntu0.1) ...\n",
            "Setting up python-olefile (0.45.1-1) ...\n",
            "Setting up python-pil:amd64 (5.1.0-1ubuntu0.3) ...\n",
            "Setting up python-webencodings (0.5-2) ...\n",
            "Setting up python-chardet (3.0.4-1) ...\n",
            "Setting up python-html5lib (0.999999999-1) ...\n",
            "Processing triggers for man-db (2.8.3-2ubuntu0.1) ...\n",
            "Requirement already satisfied: Cython in /usr/local/lib/python3.6/dist-packages (0.29.21)\n"
          ],
          "name": "stdout"
        }
      ]
    },
    {
      "cell_type": "code",
      "metadata": {
        "id": "V0Z6NHqbbKFW",
        "colab_type": "code",
        "colab": {}
      },
      "source": [
        "# CLONE DE GIT\n",
        "# try:\n",
        "#   if \"drive/My\\ Drive/models\" in pathlib.Path.cwd().parts:\n",
        "#     while \"drive/My\\ Drive/models\" in pathlib.Path.cwd().parts:\n",
        "#       os.chdir('/content/drive/My Drive')\n",
        "#   elif not pathlib.Path('drive/My\\ Drive/models').exists():\n",
        "#     os.chdir('/content/drive/My Drive')\n",
        "#     !git clone --depth 1 https://github.com/tensorflow/models\n",
        "# except:\n",
        "#   None"
      ],
      "execution_count": null,
      "outputs": []
    },
    {
      "cell_type": "code",
      "metadata": {
        "id": "SJxs2AQBa69B",
        "colab_type": "code",
        "colab": {
          "base_uri": "https://localhost:8080/",
          "height": 34
        },
        "outputId": "f33c9994-13a7-4b7c-e888-db6353cb896e"
      },
      "source": [
        "# compile proto files\n",
        "# make sure you are in BASE_DIR/research/ (see cell below)\n",
        "%cd /content/drive/My Drive/models/research/\n",
        "# !protoc object_detection/protos/*.proto --python_out=.\n",
        "# !cp object_detection/packages/tf2/setup.py .\n",
        "# !python -m pip install ."
      ],
      "execution_count": 4,
      "outputs": [
        {
          "output_type": "stream",
          "text": [
            "/content/drive/My Drive/models/research\n"
          ],
          "name": "stdout"
        }
      ]
    },
    {
      "cell_type": "code",
      "metadata": {
        "id": "Ayow-9lMbtaM",
        "colab_type": "code",
        "colab": {
          "base_uri": "https://localhost:8080/",
          "height": 51
        },
        "outputId": "56466ec6-1418-457b-9cb4-7cc6af0d3346"
      },
      "source": [
        "print(os.getcwd())\n",
        "os.chdir(\"/content/drive/My Drive/models/research/object_detection\")\n",
        "print(os.getcwd())\n",
        "try:\n",
        "  DATA_DIR = os.path.join(os.getcwd(), 'data')\n",
        "  MODELS_DIR = os.path.join(DATA_DIR, 'models')\n",
        "  for dir in [DATA_DIR, MODELS_DIR]:\n",
        "    if not os.path.exists(dir):\n",
        "      os.mkdir(dir)\n",
        "except:\n",
        "  print('error')"
      ],
      "execution_count": 5,
      "outputs": [
        {
          "output_type": "stream",
          "text": [
            "/content/drive/My Drive/models/research\n",
            "/content/drive/My Drive/models/research/object_detection\n"
          ],
          "name": "stdout"
        }
      ]
    },
    {
      "cell_type": "code",
      "metadata": {
        "id": "HSVmLnw7YC2E",
        "colab_type": "code",
        "colab": {}
      },
      "source": [
        "import os"
      ],
      "execution_count": 6,
      "outputs": []
    },
    {
      "cell_type": "code",
      "metadata": {
        "id": "RSOJV7JybPh0",
        "colab_type": "code",
        "colab": {
          "base_uri": "https://localhost:8080/",
          "height": 51
        },
        "outputId": "c0aded48-069b-4637-8ac7-7f92a2268690"
      },
      "source": [
        "import tarfile\n",
        "import urllib.request\n",
        "\n",
        "# os.chdir('/research')\n",
        "\n",
        "# Download and extract model\n",
        "MODEL_DATE = '20200711'\n",
        "#'efficientdet_d2_coco17_tpu-32' #my primary model\n",
        "MODEL_NAME = 'ssd_mobilenet_v2_320x320_coco17_tpu-8'\n",
        "MODEL_TAR_FILENAME = MODEL_NAME + '.tar.gz'\n",
        "MODELS_DOWNLOAD_BASE = 'http://download.tensorflow.org/models/object_detection/tf2/'\n",
        "MODEL_DOWNLOAD_LINK = MODELS_DOWNLOAD_BASE + MODEL_DATE + '/' + MODEL_TAR_FILENAME\n",
        "PATH_TO_MODEL_TAR = os.path.join(MODELS_DIR, MODEL_TAR_FILENAME)\n",
        "PATH_TO_CKPT = os.path.join(MODELS_DIR, os.path.join(MODEL_NAME, 'checkpoint/'))\n",
        "PATH_TO_CFG = os.path.join(MODELS_DIR, os.path.join(MODEL_NAME, 'pipeline.config'))\n",
        "if not os.path.exists(PATH_TO_CKPT):\n",
        "  print('Downloading model. This may take a while... ', end='')\n",
        "  urllib.request.urlretrieve(MODEL_DOWNLOAD_LINK, PATH_TO_MODEL_TAR)\n",
        "  tar_file = tarfile.open(PATH_TO_MODEL_TAR)\n",
        "  tar_file.extractall(MODELS_DIR)\n",
        "  tar_file.close()\n",
        "  os.remove(PATH_TO_MODEL_TAR)\n",
        "  print('Done')\n",
        "\n",
        "# Download labels file\n",
        "LABEL_FILENAME = 'mscoco_label_map.pbtxt'\n",
        "LABELS_DOWNLOAD_BASE = \\\n",
        "    'https://raw.githubusercontent.com/tensorflow/models/master/research/object_detection/data/'\n",
        "PATH_TO_LABELS = os.path.join(MODELS_DIR, os.path.join(MODEL_NAME, LABEL_FILENAME))\n",
        "if not os.path.exists(PATH_TO_LABELS):\n",
        "  print('Downloading label file... ', end='')\n",
        "  urllib.request.urlretrieve(LABELS_DOWNLOAD_BASE + LABEL_FILENAME, PATH_TO_LABELS)\n",
        "  print('Done')# %%bash"
      ],
      "execution_count": 37,
      "outputs": [
        {
          "output_type": "stream",
          "text": [
            "Downloading model. This may take a while... Done\n",
            "Downloading label file... Done\n"
          ],
          "name": "stdout"
        }
      ]
    },
    {
      "cell_type": "code",
      "metadata": {
        "id": "2QWIPGB0dJvO",
        "colab_type": "code",
        "colab": {
          "base_uri": "https://localhost:8080/",
          "height": 34
        },
        "outputId": "695a2bf7-29f9-4b0f-af62-80d9890984fa"
      },
      "source": [
        "print(os.getcwd())"
      ],
      "execution_count": 38,
      "outputs": [
        {
          "output_type": "stream",
          "text": [
            "/content/drive/My Drive/models\n"
          ],
          "name": "stdout"
        }
      ]
    },
    {
      "cell_type": "code",
      "metadata": {
        "id": "EPSo7m_2d-wq",
        "colab_type": "code",
        "colab": {
          "base_uri": "https://localhost:8080/",
          "height": 34
        },
        "outputId": "8c788a61-9624-49d9-e1ae-3a82b3aafbe7"
      },
      "source": [
        "print(PATH_TO_CFG)"
      ],
      "execution_count": 39,
      "outputs": [
        {
          "output_type": "stream",
          "text": [
            "/content/drive/My Drive/models/research/object_detection/data/models/ssd_mobilenet_v2_320x320_coco17_tpu-8/pipeline.config\n"
          ],
          "name": "stdout"
        }
      ]
    },
    {
      "cell_type": "code",
      "metadata": {
        "id": "xN7hPnl7bq-Z",
        "colab_type": "code",
        "colab": {}
      },
      "source": [
        "os.chdir('/content/drive/My Drive/models/research')\n",
        "\n",
        "os.environ['TF_CPP_MIN_LOG_LEVEL'] = '2'    # Suppress TensorFlow logging\n",
        "import tensorflow as tf\n",
        "from object_detection.utils import label_map_util\n",
        "from object_detection.utils import config_util\n",
        "from object_detection.utils import visualization_utils as viz_utils\n",
        "os.chdir('/content/drive/My Drive/models')\n",
        "from object_detection.builders import model_builder\n",
        "\n",
        "tf.get_logger().setLevel('ERROR')           # Suppress TensorFlow logging (2)\n",
        "\n",
        "# Enable GPU dynamic memory allocation\n",
        "# gpus = tf.config.experimental.list_physical_devices('GPU')\n",
        "# for gpu in gpus:\n",
        "#     tf.config.experimental.set_memory_growth(gpu, True)\n",
        "\n",
        "# Load pipeline config and build a detection model\n",
        "configs = config_util.get_configs_from_pipeline_file(PATH_TO_CFG)\n",
        "model_config = configs['model']\n",
        "detection_model = model_builder.build(model_config=model_config, is_training=False)\n",
        "\n",
        "# Restore checkpoint\n",
        "ckpt = tf.compat.v2.train.Checkpoint(model=detection_model)\n",
        "ckpt.restore(os.path.join(PATH_TO_CKPT, 'ckpt-0')).expect_partial()\n",
        "\n",
        "@tf.function\n",
        "def detect_fn(image):\n",
        "    \"\"\"Detect objects in image.\"\"\"\n",
        "\n",
        "    image, shapes = detection_model.preprocess(image)\n",
        "    prediction_dict = detection_model.predict(image, shapes)\n",
        "    detections = detection_model.postprocess(prediction_dict, shapes)\n",
        "\n",
        "    return detections, prediction_dict, tf.reshape(shapes, [-1])"
      ],
      "execution_count": 40,
      "outputs": []
    },
    {
      "cell_type": "code",
      "metadata": {
        "id": "UoYow1-1cMLL",
        "colab_type": "code",
        "colab": {}
      },
      "source": [
        "category_index = label_map_util.create_category_index_from_labelmap(PATH_TO_LABELS,\n",
        "                                                                    use_display_name=True)"
      ],
      "execution_count": 41,
      "outputs": []
    },
    {
      "cell_type": "code",
      "metadata": {
        "id": "mceCc2D9DkNr",
        "colab_type": "code",
        "colab": {
          "base_uri": "https://localhost:8080/",
          "height": 54
        },
        "outputId": "6311c025-8799-4f9e-d01b-217764b90482"
      },
      "source": [
        "print(category_index)"
      ],
      "execution_count": 42,
      "outputs": [
        {
          "output_type": "stream",
          "text": [
            "{1: {'id': 1, 'name': 'person'}, 2: {'id': 2, 'name': 'bicycle'}, 3: {'id': 3, 'name': 'car'}, 4: {'id': 4, 'name': 'motorcycle'}, 5: {'id': 5, 'name': 'airplane'}, 6: {'id': 6, 'name': 'bus'}, 7: {'id': 7, 'name': 'train'}, 8: {'id': 8, 'name': 'truck'}, 9: {'id': 9, 'name': 'boat'}, 10: {'id': 10, 'name': 'traffic light'}, 11: {'id': 11, 'name': 'fire hydrant'}, 13: {'id': 13, 'name': 'stop sign'}, 14: {'id': 14, 'name': 'parking meter'}, 15: {'id': 15, 'name': 'bench'}, 16: {'id': 16, 'name': 'bird'}, 17: {'id': 17, 'name': 'cat'}, 18: {'id': 18, 'name': 'dog'}, 19: {'id': 19, 'name': 'horse'}, 20: {'id': 20, 'name': 'sheep'}, 21: {'id': 21, 'name': 'cow'}, 22: {'id': 22, 'name': 'elephant'}, 23: {'id': 23, 'name': 'bear'}, 24: {'id': 24, 'name': 'zebra'}, 25: {'id': 25, 'name': 'giraffe'}, 27: {'id': 27, 'name': 'backpack'}, 28: {'id': 28, 'name': 'umbrella'}, 31: {'id': 31, 'name': 'handbag'}, 32: {'id': 32, 'name': 'tie'}, 33: {'id': 33, 'name': 'suitcase'}, 34: {'id': 34, 'name': 'frisbee'}, 35: {'id': 35, 'name': 'skis'}, 36: {'id': 36, 'name': 'snowboard'}, 37: {'id': 37, 'name': 'sports ball'}, 38: {'id': 38, 'name': 'kite'}, 39: {'id': 39, 'name': 'baseball bat'}, 40: {'id': 40, 'name': 'baseball glove'}, 41: {'id': 41, 'name': 'skateboard'}, 42: {'id': 42, 'name': 'surfboard'}, 43: {'id': 43, 'name': 'tennis racket'}, 44: {'id': 44, 'name': 'bottle'}, 46: {'id': 46, 'name': 'wine glass'}, 47: {'id': 47, 'name': 'cup'}, 48: {'id': 48, 'name': 'fork'}, 49: {'id': 49, 'name': 'knife'}, 50: {'id': 50, 'name': 'spoon'}, 51: {'id': 51, 'name': 'bowl'}, 52: {'id': 52, 'name': 'banana'}, 53: {'id': 53, 'name': 'apple'}, 54: {'id': 54, 'name': 'sandwich'}, 55: {'id': 55, 'name': 'orange'}, 56: {'id': 56, 'name': 'broccoli'}, 57: {'id': 57, 'name': 'carrot'}, 58: {'id': 58, 'name': 'hot dog'}, 59: {'id': 59, 'name': 'pizza'}, 60: {'id': 60, 'name': 'donut'}, 61: {'id': 61, 'name': 'cake'}, 62: {'id': 62, 'name': 'chair'}, 63: {'id': 63, 'name': 'couch'}, 64: {'id': 64, 'name': 'potted plant'}, 65: {'id': 65, 'name': 'bed'}, 67: {'id': 67, 'name': 'dining table'}, 70: {'id': 70, 'name': 'toilet'}, 72: {'id': 72, 'name': 'tv'}, 73: {'id': 73, 'name': 'laptop'}, 74: {'id': 74, 'name': 'mouse'}, 75: {'id': 75, 'name': 'remote'}, 76: {'id': 76, 'name': 'keyboard'}, 77: {'id': 77, 'name': 'cell phone'}, 78: {'id': 78, 'name': 'microwave'}, 79: {'id': 79, 'name': 'oven'}, 80: {'id': 80, 'name': 'toaster'}, 81: {'id': 81, 'name': 'sink'}, 82: {'id': 82, 'name': 'refrigerator'}, 84: {'id': 84, 'name': 'book'}, 85: {'id': 85, 'name': 'clock'}, 86: {'id': 86, 'name': 'vase'}, 87: {'id': 87, 'name': 'scissors'}, 88: {'id': 88, 'name': 'teddy bear'}, 89: {'id': 89, 'name': 'hair drier'}, 90: {'id': 90, 'name': 'toothbrush'}}\n"
          ],
          "name": "stdout"
        }
      ]
    },
    {
      "cell_type": "code",
      "metadata": {
        "id": "bcBuEbdWhdkm",
        "colab_type": "code",
        "colab": {}
      },
      "source": [
        "import cv2\n",
        "import numpy as np"
      ],
      "execution_count": 43,
      "outputs": []
    },
    {
      "cell_type": "code",
      "metadata": {
        "id": "7YcVMxrMkrlg",
        "colab_type": "code",
        "colab": {
          "base_uri": "https://localhost:8080/",
          "height": 122
        },
        "outputId": "dc7e5402-a95a-4d30-a125-bf63f0555e3a"
      },
      "source": [
        "VIDEO_NAME = 'test.mp4'\n",
        "VIDEODIR = '/content/drive/My Drive/objDet/vid/' + VIDEO_NAME\n",
        "OUTDIR = '/content/drive/My Drive/objDet/outvid/' + VIDEO_NAME\n",
        "\n",
        "cap = cv2.VideoCapture(VIDEO)\n",
        "res = (580 , 360)\n",
        "fps = 12\n",
        "out = cv2.VideoWriter(OUTDIR,cv2.VideoWriter_fourcc(*'MP4V'), fps, res)\n",
        "\n",
        "length = 60 #in second(s)\n",
        "l_fps = length * fps\n",
        "i = 0\n",
        "while (i < l_fps):\n",
        "  # Read frame from camera\n",
        "  ret, image_np = cap.read()\n",
        "\n",
        "  if not ret:\n",
        "    break\n",
        "\n",
        "  # Expand dimensions since the model expects images to have shape: [1, None, None, 3]\n",
        "  #image_np_expanded = np.expand_dims(image_np, axis=0)\n",
        "  \n",
        "  #image_np = cv2.resize(image_np, (512, 512))\n",
        "\n",
        "  # Things to try:\n",
        "  # Flip horizontally\n",
        "  # image_np = np.fliplr(image_np).copy()\n",
        "\n",
        "  # Convert image to grayscale\n",
        "  # image_np = np.tile(\n",
        "  #     np.mean(image_np, 2, keepdims=True), (1, 1, 3)).astype(np.uint8)\n",
        "\n",
        "  input_tensor = tf.convert_to_tensor(np.expand_dims(image_np, 0), dtype=tf.float32)\n",
        "  detections, predictions_dict, shapes = detect_fn(input_tensor)\n",
        "\n",
        "  label_id_offset = 1\n",
        "  image_np_with_detections = image_np.copy()\n",
        "\n",
        "  # Indices where class == human\n",
        "  #indices = np.squeeze(np.argwhere((detections['detection_classes'][0] + label_id_offset) == 1))\n",
        "  indices = np.squeeze(np.argwhere((detections['detection_classes'][0].numpy() + label_id_offset).astype(int) == 1))\n",
        "  boxes = detections['detection_boxes'][0].numpy()\n",
        "  boxes = boxes[[indices]]  # select corresponding array indices of the 4-point box\n",
        "  classes = (detections['detection_classes'][0] + label_id_offset).numpy()\n",
        "  classes = classes[[indices]].astype(int)  # select corresponding array of the detected class\n",
        "  scores = detections['detection_scores'][0].numpy()\n",
        "  scores = scores[[indices]]  # select \n",
        "\n",
        "  print(\"\\r progress: \"+str(int(((i+1)/fps)))+\" s\", end =\" \") \n",
        "  #print((detections['detection_classes'][0].numpy() + label_id_offset).astype(int))\n",
        "\n",
        "  viz_utils.visualize_boxes_and_labels_on_image_array(\n",
        "    image_np_with_detections,\n",
        "    boxes,\n",
        "    classes,\n",
        "    scores,\n",
        "    category_index,\n",
        "    use_normalized_coordinates=True,\n",
        "    max_boxes_to_draw=200,\n",
        "    min_score_thresh=.30,\n",
        "    agnostic_mode=False)\n",
        "\n",
        "  # Display output\n",
        "  #nFrame = cv2.resize(image_np_with_detections, (800, 600))\n",
        "  #cv2.imshow('object detection', nFrame)\n",
        "  \n",
        "  # write the frame\n",
        "  out.write(image_np_with_detections)\n",
        "\n",
        "  i = i+1\n",
        "\n",
        "  # if cv2.waitKey(25) & 0xFF == ord('q'):\n",
        "  #     break\n",
        "\n",
        "cap.release()\n",
        "out.release()\n",
        "print(\"\")\n",
        "print(\"DONE\")"
      ],
      "execution_count": 44,
      "outputs": [
        {
          "output_type": "stream",
          "text": [
            "/usr/local/lib/python3.6/dist-packages/ipykernel_launcher.py:43: FutureWarning: Using a non-tuple sequence for multidimensional indexing is deprecated; use `arr[tuple(seq)]` instead of `arr[seq]`. In the future this will be interpreted as an array index, `arr[np.array(seq)]`, which will result either in an error or a different result.\n",
            "/usr/local/lib/python3.6/dist-packages/ipykernel_launcher.py:45: FutureWarning: Using a non-tuple sequence for multidimensional indexing is deprecated; use `arr[tuple(seq)]` instead of `arr[seq]`. In the future this will be interpreted as an array index, `arr[np.array(seq)]`, which will result either in an error or a different result.\n",
            "/usr/local/lib/python3.6/dist-packages/ipykernel_launcher.py:47: FutureWarning: Using a non-tuple sequence for multidimensional indexing is deprecated; use `arr[tuple(seq)]` instead of `arr[seq]`. In the future this will be interpreted as an array index, `arr[np.array(seq)]`, which will result either in an error or a different result.\n"
          ],
          "name": "stderr"
        },
        {
          "output_type": "stream",
          "text": [
            " progress: 60 s \n",
            "DONE\n"
          ],
          "name": "stdout"
        }
      ]
    },
    {
      "cell_type": "code",
      "metadata": {
        "id": "66xcffnSKq4I",
        "colab_type": "code",
        "colab": {}
      },
      "source": [
        ""
      ],
      "execution_count": null,
      "outputs": []
    },
    {
      "cell_type": "code",
      "metadata": {
        "id": "_FM38Q8FhgmT",
        "colab_type": "code",
        "colab": {
          "base_uri": "https://localhost:8080/",
          "height": 1000
        },
        "outputId": "ac934067-98e6-45b6-da93-06dd3acfebe1"
      },
      "source": [
        "###OLD\n",
        "VIDEO = '/content/drive/My Drive/objDet/vid/personcount.mp4'\n",
        "OUTDIR = '/content/drive/My Drive/objDet/outvid/personcount2.mp4'\n",
        "\n",
        "cap = cv2.VideoCapture(VIDEO)\n",
        "res = (580 , 360)\n",
        "fps = 12\n",
        "out = cv2.VideoWriter(OUTDIR,cv2.VideoWriter_fourcc(*'MP4V'), fps, res)\n",
        "\n",
        "length = 5\n",
        "l_fps = length * fps\n",
        "i = 0\n",
        "while (i < l_fps):\n",
        "  # Read frame from camera\n",
        "  ret, image_np = cap.read()\n",
        "\n",
        "  if not ret:\n",
        "    break\n",
        "\n",
        "  # Expand dimensions since the model expects images to have shape: [1, None, None, 3]\n",
        "  #image_np_expanded = np.expand_dims(image_np, axis=0)\n",
        "  \n",
        "  #image_np = cv2.resize(image_np, (512, 512))\n",
        "\n",
        "  # Things to try:\n",
        "  # Flip horizontally\n",
        "  # image_np = np.fliplr(image_np).copy()\n",
        "\n",
        "  # Convert image to grayscale\n",
        "  # image_np = np.tile(\n",
        "  #     np.mean(image_np, 2, keepdims=True), (1, 1, 3)).astype(np.uint8)\n",
        "\n",
        "  input_tensor = tf.convert_to_tensor(np.expand_dims(image_np, 0), dtype=tf.float32)\n",
        "  detections, predictions_dict, shapes = detect_fn(input_tensor)\n",
        "\n",
        "  label_id_offset = 1\n",
        "  image_np_with_detections = image_np.copy()\n",
        "\n",
        "  viz_utils.visualize_boxes_and_labels_on_image_array(\n",
        "        image_np_with_detections,\n",
        "        detections['detection_boxes'][0].numpy(),\n",
        "        (detections['detection_classes'][0].numpy() + label_id_offset).astype(int),\n",
        "        detections['detection_scores'][0].numpy(),\n",
        "        category_index,\n",
        "        use_normalized_coordinates=True,\n",
        "        max_boxes_to_draw=200,\n",
        "        min_score_thresh=.60,\n",
        "        agnostic_mode=False)\n",
        "\n",
        "  # Display output\n",
        "  #nFrame = cv2.resize(image_np_with_detections, (800, 600))\n",
        "  #cv2.imshow('object detection', nFrame)\n",
        "  \n",
        "  # write the frame\n",
        "  out.write(image_np_with_detections)\n",
        "\n",
        "  try:\n",
        "    print(np.squeeze(np.argwhere((detections['detection_classes'][0] + label_id_offset) == 1)))\n",
        "  except:\n",
        "    None\n",
        "\n",
        "  print(i)\n",
        "\n",
        "  i = i+1\n",
        "\n",
        "  # if cv2.waitKey(25) & 0xFF == ord('q'):\n",
        "  #     break\n",
        "\n",
        "cap.release()\n",
        "out.release()\n",
        "print(\"DONE\")"
      ],
      "execution_count": 15,
      "outputs": [
        {
          "output_type": "stream",
          "text": [
            "[ 1 10 11 13 14 15 17 19 20 21 23 24 26 27 28 33 34 37 44 45 48 50 52 53\n",
            " 54 56 59 62 65 76 81 83 86 88 89 91 92 93 96]\n",
            "0\n",
            "[ 2  4  5  7  8 11 12 14 16 18 19 20 21 22 25 26 28 29 30 32 33 35 36 38\n",
            " 42 46 47 50 51 53 55 59 60 62 63 65 66 67 68 71 72 73 75 77 80 81 82 83\n",
            " 86 88 89 93 95 97 98]\n",
            "1\n",
            "[ 0  2  4  7  8  9 11 15 16 18 19 20 22 23 25 26 27 28 31 32 33 34 37 46\n",
            " 49 54 55 57 58 59 60 62 64 65 68 69 70 71 73 76 77 80 83 84 87 90 91 93\n",
            " 94 95 96 98]\n",
            "2\n",
            "[ 0  2  4  6  7  9 12 13 15 17 18 20 22 25 27 29 30 32 33 35 37 39 40 44\n",
            " 45 48 54 56 58 60 62 63 64 65 66 67 70 75 77 78 79 80 84 86 90 92 95 96\n",
            " 98 99]\n",
            "3\n",
            "[ 0  1  4  5  9 10 11 12 16 17 19 21 24 25 26 29 30 33 37 38 39 41 44 48\n",
            " 49 50 51 54 55 57 59 67 68 69 70 71 73 74 76 77 78 79 80 81 84 85 87 88\n",
            " 89 91 93 95 96 97]\n",
            "4\n",
            "[ 0  2  4  5  9 10 11 12 13 17 22 23 24 25 30 32 34 35 36 37 38 39 41 42\n",
            " 44 48 49 51 52 53 54 55 56 58 59 61 63 64 65 66 67 70 75 77 78 79 81 82\n",
            " 84 86 87 90 92 94 95 96]\n",
            "5\n",
            "[ 0  1  4  5  8 10 12 13 14 17 19 23 26 27 28 29 34 36 38 40 41 42 43 46\n",
            " 47 48 49 50 52 53 54 55 56 57 59 60 64 66 69 70 71 72 73 76 77 81 86 87\n",
            " 88 90 94 95 96 98]\n",
            "6\n",
            "[ 0  2  3  6  7  9 10 13 17 18 19 20 24 27 29 30 31 32 37 38 39 40 41 42\n",
            " 43 44 46 48 49 51 53 56 57 58 61 62 64 66 67 70 72 73 75 76 78 79 80 84\n",
            " 86 89 90 92 94 96 98 99]\n",
            "7\n",
            "[ 0  1  2  6  8  9 10 13 16 19 20 21 23 24 25 26 27 29 31 33 34 36 37 38\n",
            " 39 40 41 46 48 49 51 52 55 56 57 59 60 61 62 63 64 66 67 69 70 71 74 76\n",
            " 78 79 81 82 85 87 88 90 91 94 97 98 99]\n",
            "8\n",
            "[ 0  1  2  5  8  9 10 12 16 21 22 23 25 26 28 29 30 31 32 35 36 37 38 40\n",
            " 41 43 44 45 46 47 48 53 54 56 57 58 59 62 63 64 65 67 68 69 70 71 74 75\n",
            " 76 78 80 84 86 90 94 95 97 98]\n",
            "9\n",
            "[ 0  1  3  4  9 10 13 14 15 17 21 23 24 26 27 28 29 33 34 35 36 37 39 40\n",
            " 42 45 46 47 48 49 52 55 56 57 58 59 60 61 63 64 65 66 70 71 73 74 77 78\n",
            " 80 82 83 87 90 92 94]\n",
            "10\n",
            "[ 0  1  2  6  8  9 12 13 16 17 18 20 22 24 25 26 28 29 31 32 36 37 40 41\n",
            " 42 43 44 45 47 48 49 51 52 55 56 58 59 61 62 65 66 68 71 72 76 77 78 80\n",
            " 81 84 85 87 88 89 91 92 95 98]\n",
            "11\n",
            "[ 0  1  3  5  9 10 14 15 18 19 21 22 25 27 28 29 31 32 33 34 35 37 38 39\n",
            " 40 41 42 43 44 45 46 47 48 50 51 52 53 55 56 57 58 62 64 66 69 71 72 77\n",
            " 79 84 85 86 89 93 94 99]\n",
            "12\n",
            "[ 0  1  4  6  9 10 11 14 16 18 19 20 21 25 26 27 29 30 31 33 34 35 36 37\n",
            " 38 39 40 42 45 47 48 50 51 53 54 56 57 58 59 60 61 63 65 66 69 70 71 72\n",
            " 73 74 80 82 83 86 88 94 96 98 99]\n",
            "13\n",
            "[ 0  1  3  5  9 10 11 12 14 17 19 21 22 23 24 25 26 29 30 31 33 34 35 36\n",
            " 39 40 41 42 43 46 47 48 49 50 51 53 54 55 56 59 60 61 65 66 67 68 71 72\n",
            " 76 78 82 84 86 87 88 90 92 94 95 98 99]\n",
            "14\n",
            "[ 0  1  2  5  7  8 11 12 14 16 19 20 21 22 23 24 26 27 28 30 31 32 33 35\n",
            " 37 38 41 42 43 45 46 47 52 53 54 55 58 59 60 61 62 63 65 66 68 69 71 72\n",
            " 73 76 78 79 80 81 83 85 87 89 91 92 93 94 95 98 99]\n",
            "15\n",
            "[ 0  1  3  5  9 10 11 14 15 16 17 18 19 22 23 24 26 28 29 30 31 32 33 34\n",
            " 35 36 38 39 42 44 46 47 48 49 53 54 55 57 61 66 67 68 69 70 72 74 75 76\n",
            " 78 79 80 81 82 83 84 85 86 87 88 89 90 94 95 96 98]\n",
            "16\n",
            "[ 0  2  4  5  8 10 12 13 14 16 19 20 21 22 24 25 27 29 30 31 32 34 35 36\n",
            " 37 38 39 40 41 42 47 48 49 51 54 55 56 57 58 60 63 64 65 68 70 71 72 73\n",
            " 74 78 80 81 82 84 86 87 89 90 91 93 97 98 99]\n",
            "17\n",
            "[ 0  4  5  6  8  9 13 14 15 18 19 25 27 28 29 30 31 32 33 34 36 37 38 41\n",
            " 42 44 45 46 47 48 49 50 51 53 55 58 64 65 66 67 69 70 72 74 78 80 81 82\n",
            " 84 85 86 87 90 94 95 96 98 99]\n",
            "18\n",
            "[ 0  1  2  3  6  8  9 10 17 18 19 20 21 23 24 26 27 29 30 31 32 34 35 36\n",
            " 37 38 40 41 42 48 49 50 51 53 54 58 59 60 61 62 63 65 69 70 71 74 76 77\n",
            " 78 79 80 86 89 90 91 92 93 95 96 99]\n",
            "19\n",
            "[ 0  1  2  7  8  9 10 11 12 16 17 19 20 22 25 26 27 29 31 32 33 35 36 37\n",
            " 42 43 46 48 50 52 54 56 57 58 59 60 62 63 65 66 70 71 72 74 75 78 82 83\n",
            " 89 90 91 92 93 94 95 97 99]\n",
            "20\n",
            "[ 0  1  2  6  8  9 10 11 13 15 18 20 21 22 24 25 26 27 28 29 31 32 34 39\n",
            " 42 43 46 47 48 49 50 51 52 53 55 60 63 64 65 66 67 71 74 76 78 81 82 84\n",
            " 87 88 89 90 91 92 93 94]\n",
            "21\n",
            "[ 0  1  3  6  7  8  9 11 14 15 17 21 22 23 24 25 26 27 28 30 31 34 35 36\n",
            " 38 40 41 42 43 44 46 48 50 51 54 55 57 58 59 61 63 65 66 67 72 73 74 75\n",
            " 76 77 81 82 84 87 88 89 91 92 93 94 97 98]\n",
            "22\n",
            "[ 0  2  4  6  8  9 10 15 17 18 19 21 22 23 24 25 26 27 31 32 33 35 37 38\n",
            " 40 42 43 45 49 50 55 58 59 61 62 64 67 68 69 70 72 74 75 76 77 78 79 81\n",
            " 82 83 84 85 89 90 91 93 95 96 98]\n",
            "23\n",
            "[ 0  2  3  6  9 10 11 13 15 19 20 21 22 23 25 26 27 28 29 31 32 35 37 38\n",
            " 39 41 42 43 44 46 47 51 53 55 60 62 64 65 70 73 74 75 76 77 78 79 85 86\n",
            " 88 90 91 93 99]\n",
            "24\n",
            "[ 0  2  4  6  7  8  9 12 13 14 18 20 22 23 24 26 27 28 29 31 33 34 35 36\n",
            " 37 38 42 43 44 45 47 48 49 50 53 58 62 63 65 68 70 71 72 73 76 78 82 83\n",
            " 84 86 87 88 90 91 92 93 99]\n",
            "25\n",
            "[ 0  1  4  5  6  8 10 12 13 16 18 20 22 24 25 26 27 28 30 31 32 34 35 37\n",
            " 38 40 41 42 44 45 47 48 51 53 54 56 57 58 63 65 68 69 72 74 76 78 81 83\n",
            " 85 86 87 90 94 96]\n",
            "26\n",
            "[ 0  1  5  6  9 10 11 12 16 18 20 21 23 24 25 26 27 30 32 34 35 36 37 38\n",
            " 39 41 43 46 48 49 50 51 52 53 54 55 60 61 63 65 66 68 70 74 77 78 79 81\n",
            " 82 83 87 89 91 93 94]\n",
            "27\n",
            "[ 0  1  6  8  9 12 14 16 18 19 20 22 23 24 26 27 28 29 32 33 35 36 37 39\n",
            " 40 41 43 44 47 50 52 54 56 57 58 61 63 64 65 70 71 73 74 75 76 78 79 80\n",
            " 84 85 87 91 93 95 98]\n",
            "28\n",
            "[ 0  5  6  8 11 13 14 15 16 17 20 21 22 23 25 26 28 29 31 34 35 36 38 40\n",
            " 41 42 43 44 47 48 49 50 51 56 57 60 61 65 68 69 71 72 74 79 82 83 85 89\n",
            " 92 99]\n",
            "29\n",
            "[ 0  1  6  8 11 12 13 15 17 18 19 20 21 22 23 24 25 30 32 34 36 37 38 39\n",
            " 40 41 45 46 49 52 53 55 56 57 58 59 62 63 64 70 72 73 75 77 80 82 83 85\n",
            " 88 89 92 96 97 99]\n",
            "30\n",
            "[ 0  1  5  7  8 12 13 14 15 17 18 21 22 23 25 26 27 28 31 32 35 36 37 38\n",
            " 39 40 42 43 45 47 48 49 51 52 53 54 56 61 62 63 64 65 66 68 69 71 72 78\n",
            " 80 85 86 90 92 98 99]\n",
            "31\n",
            "[ 0  1  2  5  8 11 12 14 16 17 18 19 22 23 24 26 27 28 29 30 31 33 34 35\n",
            " 37 38 39 41 43 45 46 47 48 49 50 52 56 57 59 61 65 66 67 68 69 70 72 78\n",
            " 79 81 83 85 91 92 95 96]\n",
            "32\n",
            "[ 0  1  2  4  8  9 10 14 15 18 19 20 22 23 24 25 26 28 29 30 31 33 35 36\n",
            " 37 38 39 42 43 45 47 48 49 52 53 55 56 57 58 59 61 63 68 69 71 73 77 78\n",
            " 79 80 82 84 86 87 91 94 95 97]\n",
            "33\n",
            "[ 0  1  2  4  8  9 10 14 15 16 18 20 21 22 24 25 26 28 29 30 31 32 33 34\n",
            " 35 37 39 40 42 44 45 46 48 49 50 51 52 53 55 56 57 62 66 68 70 72 77 78\n",
            " 79 82 85 86 87 88 89 91 92 93 96 98 99]\n",
            "34\n",
            "[ 0  1  3  4  7  8 10 12 14 15 16 19 22 23 24 25 26 27 28 29 30 31 32 36\n",
            " 37 40 41 42 47 48 49 50 51 53 54 56 57 62 63 64 65 67 68 69 75 77 79 81\n",
            " 83 84 86 87 89 90 91 95 96 97 98]\n",
            "35\n",
            "[ 0  1  3  4  5  7 11 14 15 17 19 20 23 24 25 26 28 30 31 33 34 37 38 39\n",
            " 40 43 45 47 48 49 51 53 54 56 58 61 62 66 68 69 70 71 72 73 74 75 76 82\n",
            " 83 87 88 91 92 94 96 97 98 99]\n",
            "36\n",
            "[ 0  1  3  4  6  8 12 14 17 18 19 20 21 23 25 26 30 32 34 35 36 38 40 42\n",
            " 43 44 45 47 49 51 55 56 57 58 59 61 62 63 64 69 71 75 78 79 80 82 83 84\n",
            " 87 88 89 90 91 92]\n",
            "37\n",
            "[ 0  1  3  4  6  7 13 14 17 18 19 20 21 23 24 26 27 28 30 31 32 33 35 36\n",
            " 37 42 45 48 50 51 52 54 55 59 60 61 65 66 67 68 69 71 73 76 77 78 79 80\n",
            " 83 84 88 91 92 94 95 96 97]\n",
            "38\n",
            "[ 0  1  2  4  6  8 14 15 16 17 18 21 22 23 24 25 26 28 29 30 32 33 35 36\n",
            " 40 43 46 49 50 51 53 57 58 59 60 61 62 63 64 66 67 68 69 70 71 72 76 78\n",
            " 79 81 82 85 86 88 89 91 95 97 98]\n",
            "39\n",
            "[ 0  1  2  4  8 10 13 14 17 18 19 20 22 23 24 26 27 28 29 31 36 37 39 42\n",
            " 43 45 48 49 50 52 53 54 55 57 58 59 61 63 64 66 67 69 71 72 74 76 78 79\n",
            " 88 89 90 91 92 93 94 99]\n",
            "40\n",
            "[ 0  1  4  6  7 10 12 15 16 17 18 20 21 23 26 28 30 31 32 35 36 37 38 40\n",
            " 41 43 44 45 46 48 49 50 54 57 58 59 61 65 66 67 70 72 74 75 77 85 87 92\n",
            " 94 96 98]\n",
            "41\n",
            "[ 0  2  6  8  9 10 11 14 16 18 19 20 21 25 27 28 31 32 34 35 37 39 40 41\n",
            " 42 43 44 48 49 51 54 56 57 58 60 62 65 68 70 71 72 73 76 79 80 82 84 91\n",
            " 94 96]\n",
            "42\n",
            "[ 0  4  5  6  9 10 12 13 16 17 18 19 20 25 27 28 30 31 32 35 37 42 43 45\n",
            " 46 47 49 50 54 56 57 59 60 62 63 64 65 68 69 71 72 73 74 75 76 79 86 89\n",
            " 91 93 96 97]\n",
            "43\n",
            "[ 0  4  5  8  9 10 12 13 15 18 19 20 21 23 25 27 29 32 34 35 37 38 39 41\n",
            " 43 44 45 47 52 53 55 56 58 61 64 65 69 70 73 75 76 77 78 79 81 82 84 85\n",
            " 88 94 95 97 98]\n",
            "44\n",
            "[ 0  4  6  8  9 10 11 13 16 17 18 19 20 21 23 26 27 30 31 32 36 38 39 40\n",
            " 41 42 43 45 47 48 49 53 54 55 59 60 61 62 64 65 68 70 71 72 74 79 80 83\n",
            " 84 85 88 95 96]\n",
            "45\n",
            "[ 0  4  5  6  9 10 12 13 14 17 18 19 21 22 26 30 31 33 34 35 36 38 39 40\n",
            " 41 45 46 47 50 55 59 60 61 62 63 64 65 66 69 71 73 74 77 79 85 86 87 90\n",
            " 91 97 98 99]\n",
            "46\n",
            "[ 0  2  5  6  7  9 10 13 14 15 19 20 21 22 23 26 29 30 31 33 35 38 41 43\n",
            " 45 46 48 50 51 52 53 54 55 60 61 64 66 68 69 71 74 75 80 84 85 90 91 95\n",
            " 99]\n",
            "47\n",
            "[ 0  4  6  8  9 11 12 13 14 15 16 17 18 23 25 26 27 28 30 35 36 38 41 42\n",
            " 44 45 46 54 55 56 57 60 62 64 66 68 70 73 76 77 78 79 80 82 88 89 90 91\n",
            " 93 94 95 98 99]\n",
            "48\n",
            "[ 0  4  5  7  8  9 12 14 15 17 19 20 23 26 30 32 34 35 37 40 42 43 46 47\n",
            " 48 54 56 58 59 65 66 67 71 74 77 78 80 81 82 83 85 86 88 90 92 93 94 98]\n",
            "49\n",
            "[ 0  4  6  7  8 10 11 15 16 17 18 19 20 25 29 31 33 34 38 39 41 42 49 52\n",
            " 54 55 58 60 63 64 65 67 68 69 72 76 79 80 82 83 85 88 89 92 94 97 98]\n",
            "50\n",
            "[ 0  4  5  6  7 10 12 13 14 15 16 17 19 21 23 25 27 28 32 33 35 38 39 40\n",
            " 41 42 44 45 46 49 50 54 56 57 59 60 61 66 67 68 71 72 74 76 77 78 82 83\n",
            " 85 86 89 91 92 93]\n",
            "51\n",
            "[ 0  1  5  6  7  8 10 11 14 15 16 17 18 20 21 22 23 26 28 32 33 34 36 38\n",
            " 39 41 42 43 44 46 47 48 51 56 57 59 61 63 64 70 72 74 76 79 80 81 82 88\n",
            " 90 92 93 94 95 97 98 99]\n",
            "52\n",
            "[ 0  1  5  6  7  8  9 12 15 16 17 19 20 21 22 23 25 26 27 35 36 37 38 39\n",
            " 40 41 43 45 49 50 53 55 57 58 59 60 64 65 66 69 71 76 77 78 79 80 82 83\n",
            " 88 89 90 92 94 97 99]\n",
            "53\n",
            "[ 0  1  2  3  7  8  9 12 13 16 18 19 20 21 22 23 25 26 27 28 29 30 31 33\n",
            " 38 39 40 44 45 47 48 49 50 53 56 57 59 60 61 65 68 71 72 74 75 76 77 78\n",
            " 79 80 82 86 88 90 93 99]\n",
            "54\n",
            "[ 0  1  2  3  7  8 10 11 12 15 17 18 19 20 22 23 24 25 26 27 28 29 32 33\n",
            " 34 37 39 41 43 44 45 47 48 50 52 55 57 58 60 62 64 66 67 71 72 76 79 80\n",
            " 82 83 85 86 87 91 95 98 99]\n",
            "55\n",
            "[ 0  1  2  3  7  8  9 10 12 13 14 15 17 18 19 21 23 24 25 26 27 28 29 30\n",
            " 32 34 35 37 39 41 42 46 47 48 50 51 52 54 57 60 63 70 71 72 74 76 77 78\n",
            " 79 80 83 84 85 86 87 88 90 91 92 94 97 98 99]\n",
            "56\n",
            "[ 0  1  2  3  7  9 10 11 12 13 16 17 18 20 21 22 24 25 26 28 29 30 31 33\n",
            " 36 37 38 39 45 46 48 50 53 54 55 56 59 61 65 66 69 72 74 76 79 81 82 83\n",
            " 84 87 88 89 90 91 92 95 96]\n",
            "57\n",
            "[ 0  1  2  3  9 10 12 13 14 17 19 20 21 22 23 24 25 26 27 28 29 30 32 38\n",
            " 44 46 47 48 49 50 52 56 58 59 60 64 67 69 70 71 73 78 80 81 82 84 85 86\n",
            " 87 88 89 92 94 97 99]\n",
            "58\n",
            "[ 0  2  4  9 10 12 13 14 17 18 19 20 22 24 25 26 27 28 30 32 34 35 36 37\n",
            " 40 44 48 49 53 55 56 57 58 59 60 61 62 67 69 71 73 74 75 76 77 82 83 84\n",
            " 85 89 93 94 96 97 98 99]\n",
            "59\n",
            "DONE\n"
          ],
          "name": "stdout"
        }
      ]
    }
  ]
}